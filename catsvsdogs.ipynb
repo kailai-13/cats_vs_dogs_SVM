{
 "cells": [
  {
   "cell_type": "code",
   "execution_count": 3,
   "metadata": {},
   "outputs": [],
   "source": [
    "from sklearn.model_selection import train_test_split\n",
    "from sklearn import svm\n",
    "import numpy as np \n",
    "import os\n",
    "import cv2\n",
    "import pickle\n",
    "import pathlib"
   ]
  },
  {
   "cell_type": "code",
   "execution_count": 4,
   "metadata": {},
   "outputs": [],
   "source": [
    "path = pathlib.Path('PetImages')"
   ]
  },
  {
   "cell_type": "code",
   "execution_count": 5,
   "metadata": {},
   "outputs": [
    {
     "data": {
      "text/plain": [
       "'PetImages'"
      ]
     },
     "execution_count": 5,
     "metadata": {},
     "output_type": "execute_result"
    }
   ],
   "source": [
    "str(path)"
   ]
  },
  {
   "cell_type": "code",
   "execution_count": 58,
   "metadata": {},
   "outputs": [],
   "source": [
    "cat = list(path.glob(\"**/Cat/**/*.jpg\"))\n",
    "cat=cat[:6000]\n"
   ]
  },
  {
   "cell_type": "code",
   "execution_count": 59,
   "metadata": {},
   "outputs": [],
   "source": [
    "dog= list(path.glob(\"**/Dog/**/*.jpg\"))\n",
    "dog=dog[:6000]"
   ]
  },
  {
   "cell_type": "code",
   "execution_count": 60,
   "metadata": {},
   "outputs": [
    {
     "name": "stdout",
     "output_type": "stream",
     "text": [
      "Failed to load image: PetImages\\Cat\\10125.jpg\n",
      "Failed to load image: PetImages\\Cat\\10404.jpg\n",
      "Failed to load image: PetImages\\Cat\\10501.jpg\n",
      "Failed to load image: PetImages\\Cat\\10820.jpg\n",
      "Failed to load image: PetImages\\Cat\\11210.jpg\n",
      "Failed to load image: PetImages\\Cat\\11565.jpg\n",
      "Failed to load image: PetImages\\Cat\\11874.jpg\n",
      "Failed to load image: PetImages\\Cat\\11935.jpg\n",
      "Failed to load image: PetImages\\Cat\\140.jpg\n",
      "Failed to load image: PetImages\\Cat\\2663.jpg\n",
      "Failed to load image: PetImages\\Cat\\3300.jpg\n",
      "Failed to load image: PetImages\\Cat\\3491.jpg\n",
      "Failed to load image: PetImages\\Dog\\10158.jpg\n",
      "Failed to load image: PetImages\\Dog\\10401.jpg\n",
      "Failed to load image: PetImages\\Dog\\10747.jpg\n",
      "Failed to load image: PetImages\\Dog\\10797.jpg\n",
      "Failed to load image: PetImages\\Dog\\11410.jpg\n",
      "Failed to load image: PetImages\\Dog\\11675.jpg\n",
      "Failed to load image: PetImages\\Dog\\11849.jpg\n",
      "Failed to load image: PetImages\\Dog\\11853.jpg\n",
      "Failed to load image: PetImages\\Dog\\1308.jpg\n",
      "Failed to load image: PetImages\\Dog\\1866.jpg\n",
      "Failed to load image: PetImages\\Dog\\2384.jpg\n",
      "Failed to load image: PetImages\\Dog\\2688.jpg\n",
      "Failed to load image: PetImages\\Dog\\2877.jpg\n",
      "Failed to load image: PetImages\\Dog\\3136.jpg\n",
      "Failed to load image: PetImages\\Dog\\3288.jpg\n",
      "Failed to load image: PetImages\\Dog\\3588.jpg\n"
     ]
    }
   ],
   "source": [
    "x, y = [], []\n",
    "\n",
    "for i, image_list in enumerate([cat, dog]):\n",
    "    for j in image_list:\n",
    "        img = cv2.imread(str(j))\n",
    "        if img is None:\n",
    "            print(f\"Failed to load image: {j}\")\n",
    "            continue\n",
    "        img = cv2.resize(img, (50, 50))\n",
    "        img = cv2.cvtColor(img, cv2.COLOR_BGR2GRAY)\n",
    "        x.append(img)\n",
    "        y.append(i)\n"
   ]
  },
  {
   "cell_type": "code",
   "execution_count": 9,
   "metadata": {},
   "outputs": [
    {
     "ename": "AttributeError",
     "evalue": "'list' object has no attribute 'reshape'",
     "output_type": "error",
     "traceback": [
      "\u001b[31m---------------------------------------------------------------------------\u001b[39m",
      "\u001b[31mAttributeError\u001b[39m                            Traceback (most recent call last)",
      "\u001b[36mCell\u001b[39m\u001b[36m \u001b[39m\u001b[32mIn[9]\u001b[39m\u001b[32m, line 1\u001b[39m\n\u001b[32m----> \u001b[39m\u001b[32m1\u001b[39m x = \u001b[43mx\u001b[49m\u001b[43m.\u001b[49m\u001b[43mreshape\u001b[49m(\u001b[38;5;28mlen\u001b[39m(x), -\u001b[32m1\u001b[39m)\n",
      "\u001b[31mAttributeError\u001b[39m: 'list' object has no attribute 'reshape'"
     ]
    }
   ],
   "source": []
  },
  {
   "cell_type": "code",
   "execution_count": 61,
   "metadata": {},
   "outputs": [],
   "source": [
    "x=np.array(x)\n",
    "y=np.array(y)"
   ]
  },
  {
   "cell_type": "code",
   "execution_count": 62,
   "metadata": {},
   "outputs": [],
   "source": [
    "x = x.reshape(len(x), -1)"
   ]
  },
  {
   "cell_type": "code",
   "execution_count": 63,
   "metadata": {},
   "outputs": [],
   "source": [
    "x_train,x_test,y_train,y_test=train_test_split(x,y,test_size=0.2)"
   ]
  },
  {
   "cell_type": "code",
   "execution_count": 64,
   "metadata": {},
   "outputs": [],
   "source": [
    "x_train=x_train/255\n",
    "x_test=x_test/255"
   ]
  },
  {
   "cell_type": "code",
   "execution_count": 65,
   "metadata": {},
   "outputs": [
    {
     "data": {
      "text/plain": [
       "array([0, 0, 0, ..., 0, 1, 0])"
      ]
     },
     "execution_count": 65,
     "metadata": {},
     "output_type": "execute_result"
    }
   ],
   "source": [
    "y_train"
   ]
  },
  {
   "cell_type": "code",
   "execution_count": 66,
   "metadata": {},
   "outputs": [],
   "source": [
    "model = svm.SVC(kernel='rbf', C=2.5, gamma=0.01)\n",
    "model.fit(x_train, y_train)"
   ]
  },
  {
   "cell_type": "code",
   "execution_count": 57,
   "metadata": {},
   "outputs": [
    {
     "data": {
      "text/plain": [
       "0.6424394319131161"
      ]
     },
     "execution_count": 57,
     "metadata": {},
     "output_type": "execute_result"
    }
   ],
   "source": [
    "model.score(x_test,y_test)"
   ]
  }
 ],
 "metadata": {
  "kernelspec": {
   "display_name": "Python 3",
   "language": "python",
   "name": "python3"
  },
  "language_info": {
   "codemirror_mode": {
    "name": "ipython",
    "version": 3
   },
   "file_extension": ".py",
   "mimetype": "text/x-python",
   "name": "python",
   "nbconvert_exporter": "python",
   "pygments_lexer": "ipython3",
   "version": "3.11.7"
  }
 },
 "nbformat": 4,
 "nbformat_minor": 2
}
